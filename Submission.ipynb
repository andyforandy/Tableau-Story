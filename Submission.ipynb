{
 "cells": [
  {
   "cell_type": "markdown",
   "metadata": {},
   "source": [
    "##### Tableau-Story\n",
    "##### Titanic Data Set\n",
    "\n",
    "-----"
   ]
  },
  {
   "cell_type": "markdown",
   "metadata": {},
   "source": [
    "##### Summary:\n",
    "\n",
    "I chose Titanic Data for my analysis. Data contains demographics and passenger information from a subset of the 2224 passengers and crew on board the Titanic. In my visualization I explore the demographics and passenger information between those passengers who survived and those who died."
   ]
  },
  {
   "cell_type": "markdown",
   "metadata": {},
   "source": [
    "##### Design\n",
    "\n",
    "In my design I wanted to explore demographic variables from the data with respect to the passages that died or survived.  The titanic data has few numerical variables such as age and fare price and few categorical variables such as gender and Pclass. I first used histograms to first explore one categorical and one numeric variable and try to find a pattern in the data. I noticed that the count of man who died in the disaster was much larger number of women who also not survived. As I added another dimension to the data I noticed Pclass was an important factor in the rate of survival on Titanic. I then sliced the data using gender and Pclass and age to show who had the highest rate of survival on Titanic.\n",
    "\n",
    "[First Design](https://public.tableau.com/shared/5NHSHJ4RQ?:display_count=yes)"
   ]
  },
  {
   "cell_type": "markdown",
   "metadata": {},
   "source": [
    "##### Feedback\n",
    "\n",
    "The feedback I have received was lack of constancy in my story. It wasn’t completely clear at the first look what I was trying to show. This was because I had three plots all showing different information but they where linked together. First plot was a bar chart which showed survival rated by gender and Pclass, next was a scatter plot which showed fare by age with gender as shape and Pclass as color and next I had a scatter plot of average number of siblings per passenger count with color as survived. "
   ]
  },
  {
   "cell_type": "markdown",
   "metadata": {},
   "source": [
    "##### Post Design\n",
    "\n",
    "I decided to focus only on Pclass, gender, age and drop number of siblings from my design. I also incorporated a tree map to clearly show the proportion of survival rates by gender and Pclass. I also included a histogram  of ages by gender and Pclass to make my story more cohesive. \n",
    "\n",
    "[Final Design](https://public.tableau.com/shared/KWS6Q8BK9?:display_count=yes)"
   ]
  },
  {
   "cell_type": "markdown",
   "metadata": {},
   "source": [
    "##### Data\n",
    "\n",
    "[Titanic Data](https://d17h27t6h515a5.cloudfront.net/topher/2017/October/59d54e6d_titanic-data/titanic-data.csv)"
   ]
  }
 ],
 "metadata": {
  "kernelspec": {
   "display_name": "Python 2",
   "language": "python",
   "name": "python2"
  },
  "language_info": {
   "codemirror_mode": {
    "name": "ipython",
    "version": 2
   },
   "file_extension": ".py",
   "mimetype": "text/x-python",
   "name": "python",
   "nbconvert_exporter": "python",
   "pygments_lexer": "ipython2",
   "version": "2.7.13"
  }
 },
 "nbformat": 4,
 "nbformat_minor": 2
}
